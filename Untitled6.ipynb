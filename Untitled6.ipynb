{
 "cells": [
  {
   "cell_type": "code",
   "execution_count": 2,
   "id": "a407e604",
   "metadata": {},
   "outputs": [],
   "source": [
    "#!pip install gensim\n",
    "#!pip install git+https://github.com/boudinfl/pke.git\n",
    "#!python -m spacy download en\n",
    "#!pip install bert-extractive-summarizer --upgrade --force-reinstall\n",
    "#!pip install spacy==2.1.3 --upgrade --force-reinstall\n",
    "#!pip install -U nltk\n",
    "#!pip install -U pywsd\n",
    "#import nltk\n",
    "#nltk.download('stopwords')\n",
    "#nltk.download('popular')"
   ]
  },
  {
   "cell_type": "code",
   "execution_count": 2,
   "id": "e497c585",
   "metadata": {
    "scrolled": false
   },
   "outputs": [
    {
     "name": "stderr",
     "output_type": "stream",
     "text": [
      "Some weights of the model checkpoint at bert-large-uncased were not used when initializing BertModel: ['cls.seq_relationship.bias', 'cls.predictions.decoder.weight', 'cls.seq_relationship.weight', 'cls.predictions.bias', 'cls.predictions.transform.dense.bias', 'cls.predictions.transform.LayerNorm.weight', 'cls.predictions.transform.LayerNorm.bias', 'cls.predictions.transform.dense.weight']\n",
      "- This IS expected if you are initializing BertModel from the checkpoint of a model trained on another task or with another architecture (e.g. initializing a BertForSequenceClassification model from a BertForPreTraining model).\n",
      "- This IS NOT expected if you are initializing BertModel from the checkpoint of a model that you expect to be exactly identical (initializing a BertForSequenceClassification model from a BertForSequenceClassification model).\n",
      "C:\\Users\\varsh\\anaconda3\\lib\\site-packages\\sklearn\\cluster\\_kmeans.py:1334: UserWarning: KMeans is known to have a memory leak on Windows with MKL, when there are less chunks than available threads. You can avoid it by setting the environment variable OMP_NUM_THREADS=1.\n",
      "  warnings.warn(\n"
     ]
    }
   ],
   "source": [
    "from summarizer import Summarizer\n",
    "f = open(\"bio.txt\",\"r\",encoding='utf8')\n",
    "full_text = f.read()\n",
    "model = Summarizer()\n",
    "result = model(full_text, min_length=60, max_length = 500 , ratio = 0.4)\n",
    "summarized_text = ''.join(result)\n",
    "#print (summarized_text)\n"
   ]
  },
  {
   "cell_type": "code",
   "execution_count": 3,
   "id": "b08472bb",
   "metadata": {},
   "outputs": [
    {
     "name": "stdout",
     "output_type": "stream",
     "text": [
      "The living world comprises an amazing diversity of living organisms. Early man deified some of the inanimate matter (wind, sea, fire etc.) The description of living organisms including human beings began much later in human history. Societies which indulged in anthropocentric view of biology could register limited progress in biological knowledge. Systematic and monumental description of life forms brought in, out of necessity, detailed systems of identification, nomenclature and classification. The biggest spin off of such studies was the recognition of the sharing of similarities among living organisms both horizontally and vertically. In the following chapters of this unit, you will get a description, including classification, of animals and plants from a taxonomist’s perspective. The extraordinary habitats in which we find living organisms, be it cold mountains, deciduous forests, oceans, fresh water lakes, deserts or hot springs, leave us speechless. As scientists, we shall not attempt answering the second question. In plants, this growth by cell division occurs continuously throughout their life span. In majority of higher animals and plants, growth and reproduction are mutually exclusive events. Non-living objects also grow if we take increase in body mass as a criterion for growth. Growth, therefore, cannot be taken as a defining property of living organisms. Conditions under which it can be observed in all living organisms have to be explained and then we understand that it is a characteristic of living systems. The fungi, the filamentous algae, the protonema of mosses, all easily multiply by fragmentation. When it comes to unicellular organisms like bacteria, unicellular algae or Amoeba, reproduction is synonymous with growth, i.e., increase in number of cells. Hence, reproduction also cannot be an all-inclusive defining characteristic of living organisms. Of course, no non-living object is capable of reproducing or replicating by itself. There are thousands of metabolic reactions occurring simultaneously inside all living organisms, be they unicellular or multicellular. The sum total of all the chemical reactions occurring in our body is metabolism. Metabolic reactions can be demonstrated outside the body in cell-free systems. Photoperiod affects reproduction in seasonal breeders, both plants and animals. Consciousness therefore, becomes the defining property of living organisms. In higher classes, you will come to know that all living phenomena are due to underlying interactions. These interactions result in emergent properties at a higher level of organisation. Biology is the story of evolution of living organisms on earth.\n"
     ]
    }
   ],
   "source": [
    "print (summarized_text)"
   ]
  },
  {
   "cell_type": "code",
   "execution_count": 4,
   "id": "8e48579b",
   "metadata": {},
   "outputs": [],
   "source": [
    "#!pip install sklearn"
   ]
  },
  {
   "cell_type": "code",
   "execution_count": 5,
   "id": "f9c864ef",
   "metadata": {},
   "outputs": [],
   "source": [
    "import gc\n",
    "import torch\n",
    "gc.collect()\n",
    "\n",
    "torch.cuda.empty_cache()"
   ]
  },
  {
   "cell_type": "code",
   "execution_count": 6,
   "id": "8202c94c",
   "metadata": {},
   "outputs": [],
   "source": [
    "#conda install git"
   ]
  },
  {
   "cell_type": "code",
   "execution_count": 7,
   "id": "c8beb15c",
   "metadata": {},
   "outputs": [],
   "source": [
    "#pip install rake-nltk"
   ]
  },
  {
   "cell_type": "code",
   "execution_count": 8,
   "id": "075d3daf",
   "metadata": {},
   "outputs": [],
   "source": [
    "#pip install keybert"
   ]
  },
  {
   "cell_type": "code",
   "execution_count": 9,
   "id": "9b47ce87",
   "metadata": {},
   "outputs": [
    {
     "name": "stdout",
     "output_type": "stream",
     "text": [
      "['organisms', 'biological', 'biology', 'plants', 'beings', 'reproduction', 'habitats', 'taxonomist', 'evolution', 'anthropocentric', 'forests', 'multicellular', 'metabolic', 'deciduous', 'animals']\n"
     ]
    }
   ],
   "source": [
    "import pprint\n",
    "import itertools\n",
    "import re\n",
    "import pke\n",
    "import string\n",
    "from nltk.corpus import stopwords\n",
    "from keybert import KeyBERT\n",
    "bert=KeyBERT()\n",
    "def keybert_extractor(text):\n",
    "    keywords = bert.extract_keywords(text, stop_words=\"english\", top_n=15)\n",
    "    results = []\n",
    "    for scored_keywords in keywords:\n",
    "        for keyword in scored_keywords:\n",
    "            if isinstance(keyword, str):\n",
    "                results.append(keyword)\n",
    "    return results \n",
    "key_words =  keybert_extractor(summarized_text) \n",
    "print (key_words)\n"
   ]
  },
  {
   "cell_type": "code",
   "execution_count": 10,
   "id": "41ca01dc",
   "metadata": {},
   "outputs": [],
   "source": [
    "#!pip install flashtext"
   ]
  },
  {
   "cell_type": "code",
   "execution_count": 11,
   "id": "1175b0fa",
   "metadata": {},
   "outputs": [
    {
     "name": "stdout",
     "output_type": "stream",
     "text": [
      "{'organisms': ['The extraordinary habitats in which we find living organisms, be it cold mountains, deciduous forests, oceans, fresh water lakes, deserts or hot springs, leave us speechless.', 'When it comes to unicellular organisms like bacteria, unicellular algae or Amoeba, reproduction is synonymous with growth, i.e., increase in number of cells.', 'Conditions under which it can be observed in all living organisms have to be explained and then we understand that it is a characteristic of living systems.', 'The biggest spin off of such studies was the recognition of the sharing of similarities among living organisms both horizontally and vertically.', 'There are thousands of metabolic reactions occurring simultaneously inside all living organisms, be they unicellular or multicellular.', 'Hence, reproduction also cannot be an all-inclusive defining characteristic of living organisms.', 'The description of living organisms including human beings began much later in human history.', 'Growth, therefore, cannot be taken as a defining property of living organisms.', 'Consciousness therefore, becomes the defining property of living organisms.', 'The living world comprises an amazing diversity of living organisms.', 'Biology is the story of evolution of living organisms on earth.'], 'biological': ['Societies which indulged in anthropocentric view of biology could register limited progress in biological knowledge.'], 'biology': ['Societies which indulged in anthropocentric view of biology could register limited progress in biological knowledge.', 'Biology is the story of evolution of living organisms on earth.'], 'plants': ['In the following chapters of this unit, you will get a description, including classification, of animals and plants from a taxonomist’s perspective.', 'In majority of higher animals and plants, growth and reproduction are mutually exclusive events.', 'In plants, this growth by cell division occurs continuously throughout their life span.', 'Photoperiod affects reproduction in seasonal breeders, both plants and animals.'], 'beings': ['The description of living organisms including human beings began much later in human history.'], 'reproduction': ['When it comes to unicellular organisms like bacteria, unicellular algae or Amoeba, reproduction is synonymous with growth, i.e., increase in number of cells.', 'In majority of higher animals and plants, growth and reproduction are mutually exclusive events.', 'Hence, reproduction also cannot be an all-inclusive defining characteristic of living organisms.', 'Photoperiod affects reproduction in seasonal breeders, both plants and animals.'], 'habitats': ['The extraordinary habitats in which we find living organisms, be it cold mountains, deciduous forests, oceans, fresh water lakes, deserts or hot springs, leave us speechless.'], 'taxonomist': ['In the following chapters of this unit, you will get a description, including classification, of animals and plants from a taxonomist’s perspective.'], 'evolution': ['Biology is the story of evolution of living organisms on earth.'], 'anthropocentric': ['Societies which indulged in anthropocentric view of biology could register limited progress in biological knowledge.'], 'forests': ['The extraordinary habitats in which we find living organisms, be it cold mountains, deciduous forests, oceans, fresh water lakes, deserts or hot springs, leave us speechless.'], 'multicellular': ['There are thousands of metabolic reactions occurring simultaneously inside all living organisms, be they unicellular or multicellular.'], 'metabolic': ['There are thousands of metabolic reactions occurring simultaneously inside all living organisms, be they unicellular or multicellular.', 'Metabolic reactions can be demonstrated outside the body in cell-free systems.'], 'deciduous': ['The extraordinary habitats in which we find living organisms, be it cold mountains, deciduous forests, oceans, fresh water lakes, deserts or hot springs, leave us speechless.'], 'animals': ['In the following chapters of this unit, you will get a description, including classification, of animals and plants from a taxonomist’s perspective.', 'In majority of higher animals and plants, growth and reproduction are mutually exclusive events.', 'Photoperiod affects reproduction in seasonal breeders, both plants and animals.']}\n"
     ]
    }
   ],
   "source": [
    "from nltk.tokenize import sent_tokenize\n",
    "from flashtext import KeywordProcessor\n",
    "def tokenize_sentences(text):\n",
    "    sentences = [sent_tokenize(text)]\n",
    "    sentences = [y for x in sentences for y in x]\n",
    "    sentences = [sentence.strip() for sentence in sentences if len(sentence) > 20]\n",
    "    return sentences\n",
    "def get_sentences_for_keyword(keywords, sentences):\n",
    "    \n",
    "    keyword_processor = KeywordProcessor()\n",
    "    keyword_sentences = {}\n",
    "    for word in keywords:\n",
    "        keyword_sentences[word] = []\n",
    "        keyword_processor.add_keyword(word)\n",
    "    for sentence in sentences:\n",
    "        keywords_found = keyword_processor.extract_keywords(sentence)\n",
    "        for key in keywords_found:\n",
    "            keyword_sentences[key].append(sentence)\n",
    "    for key in keyword_sentences.keys():\n",
    "        values = keyword_sentences[key]\n",
    "        values = sorted(values, key=len, reverse=True)\n",
    "        keyword_sentences[key] = values\n",
    "    \n",
    "    return keyword_sentences\n",
    "sentences = tokenize_sentences(summarized_text)\n",
    "keyword_sentence_mapping = get_sentences_for_keyword(key_words, sentences)\n",
    "        \n",
    "print (keyword_sentence_mapping)"
   ]
  },
  {
   "cell_type": "code",
   "execution_count": 17,
   "id": "f2119b35",
   "metadata": {},
   "outputs": [
    {
     "name": "stdout",
     "output_type": "stream",
     "text": [
      "[1]\n",
      "a )   Biont\n",
      "b )   Cell\n",
      "c )   Life\n",
      "d )   Organisms\n",
      "More options:  ['Organism']\n",
      "[2]\n",
      "a )   Agglomeration\n",
      "b )   Ana\n",
      "c )   Armamentarium\n",
      "d )   Biology\n",
      "More options:  ['Art Collection', 'Asia', 'Assortment', 'Aviation', 'Backlog', 'Batch', 'Battery', 'Biota', 'Block', 'Book', 'Bottle Collection', 'Bunch', 'Central America', 'Class', 'Coin Collection', 'Collage']\n",
      "[3]\n",
      "a )   Aerobe\n",
      "b )   Plants\n",
      "c )   Anaerobe\n",
      "d )   Amphidiploid\n",
      "More options:  ['Animal', 'Animalcule', 'Atavist', 'Benthos', 'Carrier', 'Clone', 'Commensal', 'Conspecific', 'Denizen', 'Diploid', 'Dwarf', 'Eukaryote', 'Fungus', 'Haploid', 'Heteroploid', 'Heterotroph']\n",
      "[4]\n",
      "a )   Beings\n",
      "b )   Biont\n",
      "c )   Cell\n",
      "d )   Life\n",
      "More options:  ['Organism']\n",
      "[5]\n",
      "a )   Cast\n",
      "b )   Anamorphosis\n",
      "c )   Reproduction\n",
      "d )   Carbon\n",
      "More options:  ['Duplicate', 'Facsimile', 'Imitation', 'Knockoff', 'Miniature', 'Modification', 'Photocopy', 'Print', 'Quadruplicate', 'Replica', 'Triplicate', 'Xerox']\n",
      "[6]\n",
      "a )   Habitat\n",
      "b )   Habitats\n",
      "c )   Ambiance\n",
      "d )   Element\n",
      "More options:  ['Medium', 'Melting Pot', 'Parts', 'Setting']\n",
      "[7]\n",
      "a )   Cytologist\n",
      "b )   Bacteriologist\n",
      "c )   Botanist\n",
      "d )   Taxonomist\n",
      "More options:  ['Ecologist', 'Geneticist', 'Microbiologist', 'Molecular Biologist', 'Naturalist', 'Neurobiologist', 'Physiologist', 'Radiobiologist', 'Sociobiologist', 'Vivisectionist', 'Zoologist']\n",
      "[8]\n",
      "a )   Chelation\n",
      "b )   Evolution\n",
      "c )   Dealignment\n",
      "d )   Decrease\n",
      "More options:  ['Degeneration', 'Development', 'Economic Process', 'Encapsulation', 'Execution', 'Human Process', 'Increase', 'Industrial Process', 'Irreversible Process', 'Iteration', 'Natural Process', 'Operation', 'Organic Process', 'Phenomenon', 'Photography', 'Processing']\n",
      "[9]\n",
      "a )   Desert\n",
      "b )   Forests\n",
      "c )   Grassland\n",
      "d )   Forest\n",
      "More options:  []\n",
      "[10]\n",
      "a )   Amphidiploid\n",
      "b )   Anaerobe\n",
      "c )   Animals\n",
      "d )   Aerobe\n",
      "More options:  ['Animal', 'Animalcule', 'Atavist', 'Benthos', 'Carrier', 'Clone', 'Commensal', 'Conspecific', 'Denizen', 'Diploid', 'Dwarf', 'Eukaryote', 'Fungus', 'Haploid', 'Heteroploid', 'Heterotroph']\n"
     ]
    }
   ],
   "source": [
    "import requests\n",
    "import json\n",
    "import re\n",
    "import random\n",
    "from pywsd.similarity import max_similarity\n",
    "from pywsd.lesk import adapted_lesk\n",
    "from pywsd.lesk import simple_lesk\n",
    "from pywsd.lesk import cosine_lesk\n",
    "from nltk.corpus import wordnet as wn\n",
    "\n",
    "# Distractors from Wordnet\n",
    "def get_distractors_wordnet(syn,word):\n",
    "    distractors=[]\n",
    "    word= word.lower()\n",
    "    orig_word = word\n",
    "    if len(word.split())>0:\n",
    "        word = word.replace(\" \",\"_\")\n",
    "    hypernym = syn.hypernyms()\n",
    "    if len(hypernym) == 0: \n",
    "        return distractors\n",
    "    for item in hypernym[0].hyponyms():\n",
    "        name = item.lemmas()[0].name()\n",
    "        #print (\"name \",name, \" word\",orig_word)\n",
    "        if name == orig_word:\n",
    "            continue\n",
    "        name = name.replace(\"_\",\" \")\n",
    "        name = \" \".join(w.capitalize() for w in name.split())\n",
    "        if name is not None and name not in distractors:\n",
    "            distractors.append(name)\n",
    "    return distractors\n",
    "\n",
    "def get_wordsense(sent,word):\n",
    "    word= word.lower()\n",
    "    \n",
    "    if len(word.split())>0:\n",
    "        word = word.replace(\" \",\"_\")\n",
    "    \n",
    "    \n",
    "    synsets = wn.synsets(word,'n')\n",
    "    if synsets:\n",
    "        wup = max_similarity(sent, word, 'wup', pos='n')\n",
    "        adapted_lesk_output =  adapted_lesk(sent, word, pos='n')\n",
    "        lowest_index = min (synsets.index(wup),synsets.index(adapted_lesk_output))\n",
    "        return synsets[lowest_index]\n",
    "    else:\n",
    "        return None\n",
    "\n",
    "# Distractors from http://conceptnet.io/\n",
    "def get_distractors_conceptnet(word):\n",
    "    word = word.lower()\n",
    "    original_word= word\n",
    "    if (len(word.split())>0):\n",
    "        word = word.replace(\" \",\"_\")\n",
    "    distractor_list = [] \n",
    "    url = \"http://api.conceptnet.io/query?node=/c/en/%s/n&rel=/r/PartOf&start=/c/en/%s&limit=5\"%(word,word)\n",
    "    obj = requests.get(url).json()\n",
    "\n",
    "    for edge in obj['edges']:\n",
    "        link = edge['end']['term'] \n",
    "\n",
    "        url2 = \"http://api.conceptnet.io/query?node=%s&rel=/r/PartOf&end=%s&limit=10\"%(link,link)\n",
    "        obj2 = requests.get(url2).json()\n",
    "        for edge in obj2['edges']:\n",
    "            word2 = edge['start']['label']\n",
    "            if word2 not in distractor_list and original_word.lower() not in word2.lower():\n",
    "                distractor_list.append(word2)\n",
    "                   \n",
    "    return distractor_list\n",
    "\n",
    "key_distractor_list = {}\n",
    "answers=[]\n",
    "for keyword in keyword_sentence_mapping:\n",
    "    wordsense = get_wordsense(keyword_sentence_mapping[keyword][0],keyword)\n",
    "    if wordsense:\n",
    "        distractors = get_distractors_wordnet(wordsense,keyword)\n",
    "        if len(distractors) ==0:\n",
    "            distractors = get_distractors_conceptnet(keyword)\n",
    "        if len(distractors) != 0:\n",
    "            key_distractor_list[keyword] = distractors\n",
    "            answers.append(keyword)\n",
    "    else:\n",
    "        distractors = get_distractors_conceptnet(keyword)\n",
    "        if len(distractors) != 0:\n",
    "            key_distractor_list[keyword] = distractors\n",
    "            answers.append(keyword)\n",
    "questions=[]\n",
    "options=[]\n",
    "index = 1\n",
    "for each in key_distractor_list:\n",
    "    sentence = keyword_sentence_mapping[each][0]\n",
    "    pattern = re.compile(each, re.IGNORECASE)\n",
    "    output = pattern.sub( \" _______ \", sentence)\n",
    "    questions.append((str(index)+'.'+output))\n",
    "    choices = [each.capitalize()] + key_distractor_list[each]\n",
    "    top4choices = choices[:4]\n",
    "    random.shuffle(top4choices)\n",
    "    options.append(top4choices)\n",
    "    optionchoices = ['a','b','c','d']\n",
    "    print ('['+str(index)+']')\n",
    "    for idx,choice in enumerate(top4choices):\n",
    "        print (optionchoices[idx],\")\",\" \",choice)\n",
    "    print (\"More options: \", choices[4:20])\n",
    "    index = index + 1\n",
    "    \n",
    "\n"
   ]
  },
  {
   "cell_type": "code",
   "execution_count": 13,
   "id": "6dd13d0f",
   "metadata": {},
   "outputs": [],
   "source": [
    "ans_pos=[]\n",
    "for i in range(len(answers)):\n",
    "    ans_pos.append(options[i].index(answers[i].capitalize())+1)\n",
    "#print (ans_pos)"
   ]
  },
  {
   "cell_type": "code",
   "execution_count": null,
   "id": "b174da70",
   "metadata": {},
   "outputs": [],
   "source": []
  },
  {
   "cell_type": "code",
   "execution_count": null,
   "id": "fbc29605",
   "metadata": {},
   "outputs": [],
   "source": []
  }
 ],
 "metadata": {
  "kernelspec": {
   "display_name": "Python 3 (ipykernel)",
   "language": "python",
   "name": "python3"
  },
  "language_info": {
   "codemirror_mode": {
    "name": "ipython",
    "version": 3
   },
   "file_extension": ".py",
   "mimetype": "text/x-python",
   "name": "python",
   "nbconvert_exporter": "python",
   "pygments_lexer": "ipython3",
   "version": "3.9.7"
  }
 },
 "nbformat": 4,
 "nbformat_minor": 5
}
